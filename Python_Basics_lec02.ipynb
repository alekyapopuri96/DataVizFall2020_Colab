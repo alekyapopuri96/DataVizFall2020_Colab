{
  "nbformat": 4,
  "nbformat_minor": 0,
  "metadata": {
    "colab": {
      "name": "Untitled0.ipynb",
      "provenance": [],
      "authorship_tag": "ABX9TyN7KtQdaOJxyLS4bpCoGJdk",
      "include_colab_link": true
    },
    "kernelspec": {
      "name": "python3",
      "display_name": "Python 3"
    }
  },
  "cells": [
    {
      "cell_type": "markdown",
      "metadata": {
        "id": "view-in-github",
        "colab_type": "text"
      },
      "source": [
        "<a href=\"https://colab.research.google.com/github/alekyapopuri96/DataVizFall2020_Colab/blob/master/Python_Basics_lec02.ipynb\" target=\"_parent\"><img src=\"https://colab.research.google.com/assets/colab-badge.svg\" alt=\"Open In Colab\"/></a>"
      ]
    },
    {
      "cell_type": "markdown",
      "metadata": {
        "id": "ke9LmpwfqJeX",
        "colab_type": "text"
      },
      "source": [
        "<h1> I am Alekya Popuri</h1>"
      ]
    },
    {
      "cell_type": "code",
      "metadata": {
        "id": "tp2OmfXxqDIu",
        "colab_type": "code",
        "colab": {}
      },
      "source": [
        "%reset -f"
      ],
      "execution_count": 2,
      "outputs": []
    },
    {
      "cell_type": "markdown",
      "metadata": {
        "id": "JVwvc_8eqbDo",
        "colab_type": "text"
      },
      "source": [
        "<h1> Python Basics</h1>"
      ]
    },
    {
      "cell_type": "code",
      "metadata": {
        "id": "OLqkVJXYqfy3",
        "colab_type": "code",
        "colab": {
          "base_uri": "https://localhost:8080/",
          "height": 34
        },
        "outputId": "6cadda2f-e9eb-4c75-ebc2-1f2baea96ef4"
      },
      "source": [
        "print(\"Hello World\")"
      ],
      "execution_count": 3,
      "outputs": [
        {
          "output_type": "stream",
          "text": [
            "Hello World\n"
          ],
          "name": "stdout"
        }
      ]
    },
    {
      "cell_type": "markdown",
      "metadata": {
        "id": "Fxk9oXlI-5D8",
        "colab_type": "text"
      },
      "source": [
        "**Variables** and **Objects**"
      ]
    },
    {
      "cell_type": "code",
      "metadata": {
        "id": "3M2_aS43_BBd",
        "colab_type": "code",
        "colab": {
          "base_uri": "https://localhost:8080/",
          "height": 243
        },
        "outputId": "76cade7e-bf5a-43f2-cb29-682b6eae3561"
      },
      "source": [
        "str_string = \"This is a string.\" ## String\n",
        "multi_line_string = \"\"\"This is a miltiline string\n",
        "line 1\n",
        "line 2\n",
        "line 3\n",
        "\"\"\"\n",
        "Integer_Variable = 1996\n",
        "RealNumberVar = 2.203328 ## float \n",
        "boolVar = True ## True/False\n",
        "List_string_integer = [str_string, Integer_Variable, RealNumberVar, boolVar, [1,2,3]] ## a list of items\n",
        "constant_tuple = (\"This\",\"is\",1,\"tuple\",\"!\") ## tuple \n",
        "Dictionary_list = {0: 100,\n",
        "                       '1': 222,\n",
        "                       'A200':100,\n",
        "                       (1,2,3,4,5):\"value is a string, key is a tuple\"}## dictionary will be used a lot\n",
        "Set_object = set([1,2,3,4,4,4,4,5,6,7,7,7,8]) ## set is good for removing repeated objects from a list\n",
        "\n",
        "print(\"single string:\", str_string)\n",
        "print(\"multilinestring:\",multi_line_string)\n",
        "print(\"integer value:\", Integer_Variable)\n",
        "print(\"realnumber:\",RealNumberVar)\n",
        "print(\"boolean variable:(true or false)\",boolVar)\n",
        "print(\"simple list object:\",List_string_integer)\n",
        "print(\"tuple:(cant be changed)\",constant_tuple)\n",
        "print(\"dictionary:\",Dictionary_list)\n",
        "print(\"set(can remove duplicates):\", Set_object)\n",
        "\n"
      ],
      "execution_count": 5,
      "outputs": [
        {
          "output_type": "stream",
          "text": [
            "single string: This is a string.\n",
            "multilinestring: This is a miltiline string\n",
            "line 1\n",
            "line 2\n",
            "line 3\n",
            "\n",
            "integer value: 1996\n",
            "realnumber: 2.203328\n",
            "boolean variable:(true or false) True\n",
            "simple list object: ['This is a string.', 1996, 2.203328, True, [1, 2, 3]]\n",
            "tuple:(cant be changed) ('This', 'is', 1, 'tuple', '!')\n",
            "dictionary: {0: 100, '1': 222, 'A200': 100, (1, 2, 3, 4, 5): 'value is a string, key is a tuple'}\n",
            "set(can remove duplicates): {1, 2, 3, 4, 5, 6, 7, 8}\n"
          ],
          "name": "stdout"
        }
      ]
    },
    {
      "cell_type": "markdown",
      "metadata": {
        "id": "6FSGnCGSKGzP",
        "colab_type": "text"
      },
      "source": [
        "**Operations** and **Comparisions**"
      ]
    },
    {
      "cell_type": "code",
      "metadata": {
        "id": "30IhWAZTKNoc",
        "colab_type": "code",
        "colab": {
          "base_uri": "https://localhost:8080/",
          "height": 52
        },
        "outputId": "479765fe-66f3-47fd-b1fa-857559d116d7"
      },
      "source": [
        "## Initializing Lists\n",
        "First_list=[1,2,3,4]\n",
        "Second_list=[5,6,7]\n",
        "print(\"firstlistid:\",id(First_list))\n",
        "print(\"secondlistid:\",id(Second_list))"
      ],
      "execution_count": 6,
      "outputs": [
        {
          "output_type": "stream",
          "text": [
            "firstlistid: 140113798487240\n",
            "secondlistid: 140113667935560\n"
          ],
          "name": "stdout"
        }
      ]
    },
    {
      "cell_type": "code",
      "metadata": {
        "id": "mVzVXZXvLC7O",
        "colab_type": "code",
        "colab": {
          "base_uri": "https://localhost:8080/",
          "height": 69
        },
        "outputId": "e0d67f00-be1d-4ef8-c8d3-f6870e400218"
      },
      "source": [
        "First_list = Second_list\n",
        "print(\"First list after copying :\", First_list)\n",
        "## printing list id's after copying\n",
        "print(\"firstlistid:\",id(First_list))\n",
        "print(\"secondlistid:\",id(Second_list))"
      ],
      "execution_count": 7,
      "outputs": [
        {
          "output_type": "stream",
          "text": [
            "First list after copying : [5, 6, 7]\n",
            "firstlistid: 140113667935560\n",
            "secondlistid: 140113667935560\n"
          ],
          "name": "stdout"
        }
      ]
    },
    {
      "cell_type": "markdown",
      "metadata": {
        "id": "HNI0wllkLmLm",
        "colab_type": "text"
      },
      "source": [
        "**Conditions**"
      ]
    },
    {
      "cell_type": "code",
      "metadata": {
        "id": "RNrO7ZCfLsow",
        "colab_type": "code",
        "colab": {
          "base_uri": "https://localhost:8080/",
          "height": 34
        },
        "outputId": "30382de4-f6fb-4363-dd4c-6bc1629810b9"
      },
      "source": [
        "## If...Else..If\n",
        "a=7\n",
        "b=9\n",
        "if a<b:\n",
        "  print(\"a is less than b\")\n",
        "elif a>b:\n",
        "  print(\"a is greater than b\")\n",
        "else:\n",
        "  print(\"a is equal b\")"
      ],
      "execution_count": 8,
      "outputs": [
        {
          "output_type": "stream",
          "text": [
            "a is less that b\n"
          ],
          "name": "stdout"
        }
      ]
    },
    {
      "cell_type": "markdown",
      "metadata": {
        "id": "q82BfSHKMJP9",
        "colab_type": "text"
      },
      "source": [
        "**Loops**"
      ]
    },
    {
      "cell_type": "code",
      "metadata": {
        "id": "XySZ8fyTMLAw",
        "colab_type": "code",
        "colab": {
          "base_uri": "https://localhost:8080/",
          "height": 191
        },
        "outputId": "03b634fe-681d-4c0a-92cb-92ba102a40a2"
      },
      "source": [
        "## For Loop\n",
        "for i in range(2000,2020,2):\n",
        "  print(\"number:\",i)\n",
        "\n"
      ],
      "execution_count": 14,
      "outputs": [
        {
          "output_type": "stream",
          "text": [
            "number: 2000\n",
            "number: 2002\n",
            "number: 2004\n",
            "number: 2006\n",
            "number: 2008\n",
            "number: 2010\n",
            "number: 2012\n",
            "number: 2014\n",
            "number: 2016\n",
            "number: 2018\n"
          ],
          "name": "stdout"
        }
      ]
    },
    {
      "cell_type": "code",
      "metadata": {
        "id": "e_yvzr0vOT_2",
        "colab_type": "code",
        "colab": {
          "base_uri": "https://localhost:8080/",
          "height": 191
        },
        "outputId": "aa924f14-467a-4b54-8b73-f813155961e5"
      },
      "source": [
        "number = range(2000,2020,2)\n",
        "for i,element in enumerate(number):\n",
        "  print(f'element index {i} is {element}')"
      ],
      "execution_count": 17,
      "outputs": [
        {
          "output_type": "stream",
          "text": [
            "element index 0 is 2000\n",
            "element index 1 is 2002\n",
            "element index 2 is 2004\n",
            "element index 3 is 2006\n",
            "element index 4 is 2008\n",
            "element index 5 is 2010\n",
            "element index 6 is 2012\n",
            "element index 7 is 2014\n",
            "element index 8 is 2016\n",
            "element index 9 is 2018\n"
          ],
          "name": "stdout"
        }
      ]
    },
    {
      "cell_type": "markdown",
      "metadata": {
        "id": "4wgwv7kmOzGl",
        "colab_type": "text"
      },
      "source": [
        "***While*** **Loop**"
      ]
    },
    {
      "cell_type": "code",
      "metadata": {
        "id": "EuRctkP0O6iM",
        "colab_type": "code",
        "colab": {
          "base_uri": "https://localhost:8080/",
          "height": 86
        },
        "outputId": "d2068ad5-e443-4c10-936d-6903ae3894fa"
      },
      "source": [
        "lst = range(0,100,10)\n",
        "i = 0\n",
        "element = 0\n",
        "while(element<30):\n",
        "  element  = lst[i]\n",
        "  print(element)\n",
        "  i=i+1"
      ],
      "execution_count": 24,
      "outputs": [
        {
          "output_type": "stream",
          "text": [
            "0\n",
            "10\n",
            "20\n",
            "30\n"
          ],
          "name": "stdout"
        }
      ]
    }
  ]
}