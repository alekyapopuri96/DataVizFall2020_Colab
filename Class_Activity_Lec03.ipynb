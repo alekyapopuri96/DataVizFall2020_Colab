{
  "nbformat": 4,
  "nbformat_minor": 0,
  "metadata": {
    "colab": {
      "name": "Class_Activity_Lec03.ipynb",
      "provenance": [],
      "collapsed_sections": [],
      "include_colab_link": true
    },
    "kernelspec": {
      "name": "python3",
      "display_name": "Python 3"
    }
  },
  "cells": [
    {
      "cell_type": "markdown",
      "metadata": {
        "id": "view-in-github",
        "colab_type": "text"
      },
      "source": [
        "<a href=\"https://colab.research.google.com/github/alekyapopuri96/DataVizFall2020_Colab/blob/master/Class_Activity_Lec03.ipynb\" target=\"_parent\"><img src=\"https://colab.research.google.com/assets/colab-badge.svg\" alt=\"Open In Colab\"/></a>"
      ]
    },
    {
      "cell_type": "markdown",
      "metadata": {
        "id": "Byjnt3sW70g2",
        "colab_type": "text"
      },
      "source": [
        "# Visualize New York times database for COVID-19\n",
        "## Case study Bristol and Suffolk, MA"
      ]
    },
    {
      "cell_type": "markdown",
      "metadata": {
        "id": "-yRKZ88f8Eit",
        "colab_type": "text"
      },
      "source": [
        "## Loading US County Level Data"
      ]
    },
    {
      "cell_type": "code",
      "metadata": {
        "id": "FmC4_RXYRmTQ",
        "colab_type": "code",
        "colab": {}
      },
      "source": [
        "import pandas as pd\n",
        "import matplotlib.pyplot as plt\n",
        "import folium"
      ],
      "execution_count": null,
      "outputs": []
    },
    {
      "cell_type": "code",
      "metadata": {
        "id": "Zx2TID5Q79vH",
        "colab_type": "code",
        "colab": {}
      },
      "source": [
        "# https://github.com/nytimes/covid-19-data repository location\n",
        "db = \"https://raw.githubusercontent.com/nytimes/covid-19-data/master/us-counties.csv\"\n",
        "\n",
        "## loading data into dataframe\n",
        "##df = pd.DataFrame(db)"
      ],
      "execution_count": null,
      "outputs": []
    },
    {
      "cell_type": "markdown",
      "metadata": {
        "id": "Qmo3W6WqZc-o",
        "colab_type": "text"
      },
      "source": [
        "# Explore data"
      ]
    },
    {
      "cell_type": "code",
      "metadata": {
        "id": "1LFMv0CP7vf_",
        "colab_type": "code",
        "colab": {
          "base_uri": "https://localhost:8080/",
          "height": 206
        },
        "outputId": "95096b06-9d87-4c25-8cd6-67327177529c"
      },
      "source": [
        "df = pd.read_csv(db)\n",
        "\n",
        "df.head(5)"
      ],
      "execution_count": null,
      "outputs": [
        {
          "output_type": "execute_result",
          "data": {
            "text/html": [
              "<div>\n",
              "<style scoped>\n",
              "    .dataframe tbody tr th:only-of-type {\n",
              "        vertical-align: middle;\n",
              "    }\n",
              "\n",
              "    .dataframe tbody tr th {\n",
              "        vertical-align: top;\n",
              "    }\n",
              "\n",
              "    .dataframe thead th {\n",
              "        text-align: right;\n",
              "    }\n",
              "</style>\n",
              "<table border=\"1\" class=\"dataframe\">\n",
              "  <thead>\n",
              "    <tr style=\"text-align: right;\">\n",
              "      <th></th>\n",
              "      <th>date</th>\n",
              "      <th>county</th>\n",
              "      <th>state</th>\n",
              "      <th>fips</th>\n",
              "      <th>cases</th>\n",
              "      <th>deaths</th>\n",
              "    </tr>\n",
              "  </thead>\n",
              "  <tbody>\n",
              "    <tr>\n",
              "      <th>0</th>\n",
              "      <td>2020-01-21</td>\n",
              "      <td>Snohomish</td>\n",
              "      <td>Washington</td>\n",
              "      <td>53061.0</td>\n",
              "      <td>1</td>\n",
              "      <td>0</td>\n",
              "    </tr>\n",
              "    <tr>\n",
              "      <th>1</th>\n",
              "      <td>2020-01-22</td>\n",
              "      <td>Snohomish</td>\n",
              "      <td>Washington</td>\n",
              "      <td>53061.0</td>\n",
              "      <td>1</td>\n",
              "      <td>0</td>\n",
              "    </tr>\n",
              "    <tr>\n",
              "      <th>2</th>\n",
              "      <td>2020-01-23</td>\n",
              "      <td>Snohomish</td>\n",
              "      <td>Washington</td>\n",
              "      <td>53061.0</td>\n",
              "      <td>1</td>\n",
              "      <td>0</td>\n",
              "    </tr>\n",
              "    <tr>\n",
              "      <th>3</th>\n",
              "      <td>2020-01-24</td>\n",
              "      <td>Cook</td>\n",
              "      <td>Illinois</td>\n",
              "      <td>17031.0</td>\n",
              "      <td>1</td>\n",
              "      <td>0</td>\n",
              "    </tr>\n",
              "    <tr>\n",
              "      <th>4</th>\n",
              "      <td>2020-01-24</td>\n",
              "      <td>Snohomish</td>\n",
              "      <td>Washington</td>\n",
              "      <td>53061.0</td>\n",
              "      <td>1</td>\n",
              "      <td>0</td>\n",
              "    </tr>\n",
              "  </tbody>\n",
              "</table>\n",
              "</div>"
            ],
            "text/plain": [
              "         date     county       state     fips  cases  deaths\n",
              "0  2020-01-21  Snohomish  Washington  53061.0      1       0\n",
              "1  2020-01-22  Snohomish  Washington  53061.0      1       0\n",
              "2  2020-01-23  Snohomish  Washington  53061.0      1       0\n",
              "3  2020-01-24       Cook    Illinois  17031.0      1       0\n",
              "4  2020-01-24  Snohomish  Washington  53061.0      1       0"
            ]
          },
          "metadata": {
            "tags": []
          },
          "execution_count": 19
        }
      ]
    },
    {
      "cell_type": "code",
      "metadata": {
        "id": "QpoWNDUxZgSJ",
        "colab_type": "code",
        "colab": {
          "base_uri": "https://localhost:8080/",
          "height": 139
        },
        "outputId": "53a40896-a5b5-4778-972a-36052a150069"
      },
      "source": [
        "df.nunique()"
      ],
      "execution_count": null,
      "outputs": [
        {
          "output_type": "execute_result",
          "data": {
            "text/plain": [
              "date        233\n",
              "county     1921\n",
              "state        55\n",
              "fips       3203\n",
              "cases     15918\n",
              "deaths     2375\n",
              "dtype: int64"
            ]
          },
          "metadata": {
            "tags": []
          },
          "execution_count": 8
        }
      ]
    },
    {
      "cell_type": "code",
      "metadata": {
        "id": "n6KHjGs7RwaS",
        "colab_type": "code",
        "colab": {
          "base_uri": "https://localhost:8080/",
          "height": 52
        },
        "outputId": "ca368931-2f1d-4fbd-b4dc-57d1079adc34"
      },
      "source": [
        "# let us get fips for 2 counties  (Bristol and Suffolk, MA)\n",
        "## fips stands for : Federal Information Processing Standards\n",
        "fips_for_bristol = df[(df['county'] == 'Bristol') &(df['state'] == 'Massachusetts')]['fips'].unique()[0].astype('int')\n",
        "fips_for_suffolk = df[(df['county'] == 'Suffolk') &(df['state'] == 'Massachusetts')]['fips'].unique()[0].astype('int')\n",
        "\n",
        "print(f'bristol = {fips_for_bristol}')\n",
        "print(f'suffolk = {fips_for_suffolk}')"
      ],
      "execution_count": null,
      "outputs": [
        {
          "output_type": "stream",
          "text": [
            "bristol = 25005\n",
            "suffolk = 25025\n"
          ],
          "name": "stdout"
        }
      ]
    },
    {
      "cell_type": "code",
      "metadata": {
        "id": "xYbzk8vCR8GE",
        "colab_type": "code",
        "colab": {
          "base_uri": "https://localhost:8080/",
          "height": 238
        },
        "outputId": "c0940b31-11bb-46c2-8efb-a7cae324dbf4"
      },
      "source": [
        "def get_county_stat(df,fips):\n",
        "  Bristol_fips = df[df['fips'] == fips][['date','county','state','cases','deaths']].copy()\n",
        "  Bristol_fips.set_index('date',inplace = True)\n",
        "  Bristol_fips.index = pd.to_datetime(Bristol_fips.index)\n",
        "  return Bristol_fips\n",
        "\n",
        "get_county_stat(df,fips_for_bristol).head()"
      ],
      "execution_count": null,
      "outputs": [
        {
          "output_type": "execute_result",
          "data": {
            "text/html": [
              "<div>\n",
              "<style scoped>\n",
              "    .dataframe tbody tr th:only-of-type {\n",
              "        vertical-align: middle;\n",
              "    }\n",
              "\n",
              "    .dataframe tbody tr th {\n",
              "        vertical-align: top;\n",
              "    }\n",
              "\n",
              "    .dataframe thead th {\n",
              "        text-align: right;\n",
              "    }\n",
              "</style>\n",
              "<table border=\"1\" class=\"dataframe\">\n",
              "  <thead>\n",
              "    <tr style=\"text-align: right;\">\n",
              "      <th></th>\n",
              "      <th>county</th>\n",
              "      <th>state</th>\n",
              "      <th>cases</th>\n",
              "      <th>deaths</th>\n",
              "    </tr>\n",
              "    <tr>\n",
              "      <th>date</th>\n",
              "      <th></th>\n",
              "      <th></th>\n",
              "      <th></th>\n",
              "      <th></th>\n",
              "    </tr>\n",
              "  </thead>\n",
              "  <tbody>\n",
              "    <tr>\n",
              "      <th>2020-03-14</th>\n",
              "      <td>Bristol</td>\n",
              "      <td>Massachusetts</td>\n",
              "      <td>1</td>\n",
              "      <td>0</td>\n",
              "    </tr>\n",
              "    <tr>\n",
              "      <th>2020-03-15</th>\n",
              "      <td>Bristol</td>\n",
              "      <td>Massachusetts</td>\n",
              "      <td>1</td>\n",
              "      <td>0</td>\n",
              "    </tr>\n",
              "    <tr>\n",
              "      <th>2020-03-16</th>\n",
              "      <td>Bristol</td>\n",
              "      <td>Massachusetts</td>\n",
              "      <td>2</td>\n",
              "      <td>0</td>\n",
              "    </tr>\n",
              "    <tr>\n",
              "      <th>2020-03-17</th>\n",
              "      <td>Bristol</td>\n",
              "      <td>Massachusetts</td>\n",
              "      <td>5</td>\n",
              "      <td>0</td>\n",
              "    </tr>\n",
              "    <tr>\n",
              "      <th>2020-03-18</th>\n",
              "      <td>Bristol</td>\n",
              "      <td>Massachusetts</td>\n",
              "      <td>5</td>\n",
              "      <td>0</td>\n",
              "    </tr>\n",
              "  </tbody>\n",
              "</table>\n",
              "</div>"
            ],
            "text/plain": [
              "             county          state  cases  deaths\n",
              "date                                             \n",
              "2020-03-14  Bristol  Massachusetts      1       0\n",
              "2020-03-15  Bristol  Massachusetts      1       0\n",
              "2020-03-16  Bristol  Massachusetts      2       0\n",
              "2020-03-17  Bristol  Massachusetts      5       0\n",
              "2020-03-18  Bristol  Massachusetts      5       0"
            ]
          },
          "metadata": {
            "tags": []
          },
          "execution_count": 36
        }
      ]
    },
    {
      "cell_type": "markdown",
      "metadata": {
        "id": "ZdvAU6NsXmXZ",
        "colab_type": "text"
      },
      "source": [
        "## Explore data type"
      ]
    },
    {
      "cell_type": "code",
      "metadata": {
        "id": "SqrW8_oTXlxH",
        "colab_type": "code",
        "colab": {}
      },
      "source": [
        "df_Bristol = get_county_stat(df,25005)\n",
        "df_Suffolk = get_county_stat(df,25025)\n"
      ],
      "execution_count": null,
      "outputs": []
    },
    {
      "cell_type": "code",
      "metadata": {
        "id": "pvwkK_bxZvA2",
        "colab_type": "code",
        "colab": {
          "base_uri": "https://localhost:8080/",
          "height": 407
        },
        "outputId": "d5a68bd3-d822-4dce-a2b3-2996b3d72058"
      },
      "source": [
        "f,ax = plt.subplots(1,2,figsize=(18,6))\n",
        "ax[0].plot(df_Bristol.index,df_Bristol.cases,'-.',color = 'black', label = 'Bristol cases')\n",
        "ax[0].plot(df_Bristol.index,df_Bristol.deaths,'-.',color = 'darkgreen', label = 'Bristol deaths')\n",
        "\n",
        "ax[0].plot(df_Suffolk.index,df_Suffolk.cases,'-.',color = 'darkblue', label = 'sufolk cases')\n",
        "ax[0].plot(df_Suffolk.index,df_Suffolk.deaths,'-.',color = 'red', label = 'suffolk deaths')\n",
        "\n",
        "width = 0.3\n",
        "past = -90\n",
        "bar_axis1= ax[1].bar(df_Bristol.index[past:], df_Bristol.deaths[past:],width,label='Bristol')\n",
        "bar_axis2= ax[1].bar(df_Suffolk.index[past:], df_Suffolk.deaths[past:],width,bottom = df_Bristol.deaths[past:],label='suffolk')\n",
        "ax[0].set_title('Bristol vs suffolk')\n",
        "ax[1].set_title('Bristol vs suffolk(deaths)')\n",
        "\n"
      ],
      "execution_count": null,
      "outputs": [
        {
          "output_type": "execute_result",
          "data": {
            "text/plain": [
              "Text(0.5, 1.0, 'Bristol vs suffolk(deaths)')"
            ]
          },
          "metadata": {
            "tags": []
          },
          "execution_count": 52
        },
        {
          "output_type": "display_data",
          "data": {
            "image/png": "[encoded data removed]",
            "text/plain": [
              "<Figure size 1296x432 with 2 Axes>"
            ]
          },
          "metadata": {
            "tags": [],
            "needs_background": "light"
          }
        }
      ]
    },
    {
      "cell_type": "markdown",
      "metadata": {
        "id": "3Ir7AQGfSrl7",
        "colab_type": "text"
      },
      "source": [
        "## Top 10 counties by number of cases and deaths \n",
        "\n",
        "\n",
        "\n",
        "```\n",
        "# This is formatted as code\n",
        "```\n",
        "\n",
        "\n",
        "\n"
      ]
    },
    {
      "cell_type": "code",
      "metadata": {
        "id": "lYE52OMEf5-r",
        "colab_type": "code",
        "colab": {
          "base_uri": "https://localhost:8080/",
          "height": 363
        },
        "outputId": "09150711-e829-4663-fd9f-bb02ac1730a2"
      },
      "source": [
        "#df.max()\n",
        "\n",
        "result = df.sort_values(by=['cases', 'deaths'], ascending=False)\n",
        "\n",
        "result.head(10)\n",
        "\n",
        "#counties_cases_deaths_max = df[df['fips'] == fips][['county','cases','deaths']].copy()\n",
        "#print(f'{counties_cases_deaths_max}')"
      ],
      "execution_count": null,
      "outputs": [
        {
          "output_type": "execute_result",
          "data": {
            "text/html": [
              "<div>\n",
              "<style scoped>\n",
              "    .dataframe tbody tr th:only-of-type {\n",
              "        vertical-align: middle;\n",
              "    }\n",
              "\n",
              "    .dataframe tbody tr th {\n",
              "        vertical-align: top;\n",
              "    }\n",
              "\n",
              "    .dataframe thead th {\n",
              "        text-align: right;\n",
              "    }\n",
              "</style>\n",
              "<table border=\"1\" class=\"dataframe\">\n",
              "  <thead>\n",
              "    <tr style=\"text-align: right;\">\n",
              "      <th></th>\n",
              "      <th>date</th>\n",
              "      <th>county</th>\n",
              "      <th>state</th>\n",
              "      <th>fips</th>\n",
              "      <th>cases</th>\n",
              "      <th>deaths</th>\n",
              "    </tr>\n",
              "  </thead>\n",
              "  <tbody>\n",
              "    <tr>\n",
              "      <th>515265</th>\n",
              "      <td>2020-09-09</td>\n",
              "      <td>Los Angeles</td>\n",
              "      <td>California</td>\n",
              "      <td>6037.0</td>\n",
              "      <td>249859</td>\n",
              "      <td>6090</td>\n",
              "    </tr>\n",
              "    <tr>\n",
              "      <th>512032</th>\n",
              "      <td>2020-09-08</td>\n",
              "      <td>Los Angeles</td>\n",
              "      <td>California</td>\n",
              "      <td>6037.0</td>\n",
              "      <td>249241</td>\n",
              "      <td>6036</td>\n",
              "    </tr>\n",
              "    <tr>\n",
              "      <th>508799</th>\n",
              "      <td>2020-09-07</td>\n",
              "      <td>Los Angeles</td>\n",
              "      <td>California</td>\n",
              "      <td>6037.0</td>\n",
              "      <td>248821</td>\n",
              "      <td>6030</td>\n",
              "    </tr>\n",
              "    <tr>\n",
              "      <th>505567</th>\n",
              "      <td>2020-09-06</td>\n",
              "      <td>Los Angeles</td>\n",
              "      <td>California</td>\n",
              "      <td>6037.0</td>\n",
              "      <td>248334</td>\n",
              "      <td>6005</td>\n",
              "    </tr>\n",
              "    <tr>\n",
              "      <th>502333</th>\n",
              "      <td>2020-09-05</td>\n",
              "      <td>Los Angeles</td>\n",
              "      <td>California</td>\n",
              "      <td>6037.0</td>\n",
              "      <td>247542</td>\n",
              "      <td>6000</td>\n",
              "    </tr>\n",
              "    <tr>\n",
              "      <th>499099</th>\n",
              "      <td>2020-09-04</td>\n",
              "      <td>Los Angeles</td>\n",
              "      <td>California</td>\n",
              "      <td>6037.0</td>\n",
              "      <td>246407</td>\n",
              "      <td>5977</td>\n",
              "    </tr>\n",
              "    <tr>\n",
              "      <th>495866</th>\n",
              "      <td>2020-09-03</td>\n",
              "      <td>Los Angeles</td>\n",
              "      <td>California</td>\n",
              "      <td>6037.0</td>\n",
              "      <td>244999</td>\n",
              "      <td>5932</td>\n",
              "    </tr>\n",
              "    <tr>\n",
              "      <th>492632</th>\n",
              "      <td>2020-09-02</td>\n",
              "      <td>Los Angeles</td>\n",
              "      <td>California</td>\n",
              "      <td>6037.0</td>\n",
              "      <td>243935</td>\n",
              "      <td>5878</td>\n",
              "    </tr>\n",
              "    <tr>\n",
              "      <th>489399</th>\n",
              "      <td>2020-09-01</td>\n",
              "      <td>Los Angeles</td>\n",
              "      <td>California</td>\n",
              "      <td>6037.0</td>\n",
              "      <td>242521</td>\n",
              "      <td>5829</td>\n",
              "    </tr>\n",
              "    <tr>\n",
              "      <th>486166</th>\n",
              "      <td>2020-08-31</td>\n",
              "      <td>Los Angeles</td>\n",
              "      <td>California</td>\n",
              "      <td>6037.0</td>\n",
              "      <td>241768</td>\n",
              "      <td>5784</td>\n",
              "    </tr>\n",
              "  </tbody>\n",
              "</table>\n",
              "</div>"
            ],
            "text/plain": [
              "              date       county       state    fips   cases  deaths\n",
              "515265  2020-09-09  Los Angeles  California  6037.0  249859    6090\n",
              "512032  2020-09-08  Los Angeles  California  6037.0  249241    6036\n",
              "508799  2020-09-07  Los Angeles  California  6037.0  248821    6030\n",
              "505567  2020-09-06  Los Angeles  California  6037.0  248334    6005\n",
              "502333  2020-09-05  Los Angeles  California  6037.0  247542    6000\n",
              "499099  2020-09-04  Los Angeles  California  6037.0  246407    5977\n",
              "495866  2020-09-03  Los Angeles  California  6037.0  244999    5932\n",
              "492632  2020-09-02  Los Angeles  California  6037.0  243935    5878\n",
              "489399  2020-09-01  Los Angeles  California  6037.0  242521    5829\n",
              "486166  2020-08-31  Los Angeles  California  6037.0  241768    5784"
            ]
          },
          "metadata": {
            "tags": []
          },
          "execution_count": 24
        }
      ]
    },
    {
      "cell_type": "markdown",
      "metadata": {
        "id": "aHvTcmdfgy38",
        "colab_type": "text"
      },
      "source": [
        "## Death rate Per FIPS "
      ]
    },
    {
      "cell_type": "code",
      "metadata": {
        "id": "9fNijuO8R9Hx",
        "colab_type": "code",
        "colab": {}
      },
      "source": [
        "#result=df[['deaths','county']]['fips']\n",
        "#result = df[(df['county'] == 'Bristol') &(df['state'] == 'Massachusetts')]['fips'].unique()[0].astype('int')\n",
        "#result.tail(10)\n",
        "#print(f'{result}')\n",
        "#df[['county','deaths']].value_counts()"
      ],
      "execution_count": null,
      "outputs": []
    },
    {
      "cell_type": "code",
      "metadata": {
        "id": "1lJmC-FEhhY-",
        "colab_type": "code",
        "colab": {}
      },
      "source": [
        ""
      ],
      "execution_count": null,
      "outputs": []
    },
    {
      "cell_type": "markdown",
      "metadata": {
        "id": "FqTGKtk5hQ-I",
        "colab_type": "text"
      },
      "source": [
        "## <font color = red> Bonus Point</font>\n",
        "\n",
        "### A function that makes \"Folium Choropleth Map\" for Weekly Cases, Weekly Deaths and Weekly Mortality Rate </font>\n",
        "\n",
        "ALL COUNTIES\n",
        "\n",
        "<br>\n",
        "\n",
        "### def Folium_Choropleth(type = 'cases',date=''):\n",
        "\n",
        "<br>\n",
        "\n",
        "## Due for Bonus point : Friday (09/11/2020 11:59pm)"
      ]
    },
    {
      "cell_type": "code",
      "metadata": {
        "id": "Qi9EZlbmhPh2",
        "colab_type": "code",
        "colab": {
          "base_uri": "https://localhost:8080/",
          "height": 260
        },
        "outputId": "c741a030-49bc-4dca-d1d4-a18b0a80c94f"
      },
      "source": [
        "#base map\n",
        "#m = folium.Map()\n",
        "# transferring the data into json\n",
        "\n",
        "#weekly_cases = db.json()\n",
        "\n",
        "\n",
        "#m\n",
        "from datetime import datetime\n",
        "df['date'] = df['date'].astype('datetime64[ns]')\n",
        "weekly_data = df.groupby(\"county\").resample('W-Wed', label='right', closed = 'right', on='date').sum().reset_index().sort_values(by='date')\n",
        "#weekly_data_json = weekly_data.json()\n",
        "print(weekly_data)"
      ],
      "execution_count": null,
      "outputs": [
        {
          "output_type": "stream",
          "text": [
            "            county       date      fips  cases  deaths\n",
            "39102    Snohomish 2020-01-22  106122.0      2       0\n",
            "10215         Cook 2020-01-29  102186.0      6       0\n",
            "25168  Los Angeles 2020-01-29   24148.0      4       0\n",
            "39103    Snohomish 2020-01-29  371427.0      7       0\n",
            "26185     Maricopa 2020-01-29   16052.0      4       0\n",
            "...            ...        ...       ...    ...     ...\n",
            "23014        Knott 2020-09-16   21119.0     97       1\n",
            "36347    Roscommon 2020-09-16   26143.0     82       4\n",
            "23041         Knox 2020-09-16  273973.0   9956     110\n",
            "36412         Ross 2020-09-16   39141.0    808      16\n",
            "47293      Ziebach 2020-09-16   46137.0     58       0\n",
            "\n",
            "[47294 rows x 5 columns]\n"
          ],
          "name": "stdout"
        }
      ]
    },
    {
      "cell_type": "code",
      "metadata": {
        "id": "QM_OR4VxSqEN",
        "colab_type": "code",
        "colab": {}
      },
      "source": [
        ""
      ],
      "execution_count": null,
      "outputs": []
    },
    {
      "cell_type": "code",
      "metadata": {
        "id": "296nY_KHhOc0",
        "colab_type": "code",
        "colab": {}
      },
      "source": [
        ""
      ],
      "execution_count": null,
      "outputs": []
    }
  ]
}